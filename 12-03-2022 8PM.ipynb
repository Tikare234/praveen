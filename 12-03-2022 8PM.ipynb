{
 "cells": [
  {
   "cell_type": "code",
   "execution_count": 1,
   "id": "4eee20c8",
   "metadata": {},
   "outputs": [],
   "source": [
    "import pandas as pd \n",
    "import matplotlib.pyplot as plt"
   ]
  },
  {
   "cell_type": "code",
   "execution_count": 2,
   "id": "145b0714",
   "metadata": {},
   "outputs": [],
   "source": [
    "cars = pd.read_csv('c:/data/usedcars.csv')"
   ]
  },
  {
   "cell_type": "code",
   "execution_count": 65,
   "id": "c60a5347",
   "metadata": {},
   "outputs": [
    {
     "data": {
      "text/plain": [
       "78"
      ]
     },
     "execution_count": 65,
     "metadata": {},
     "output_type": "execute_result"
    }
   ],
   "source": [
    "models = cars.model.value_counts()\n",
    "models[0]"
   ]
  },
  {
   "cell_type": "code",
   "execution_count": 70,
   "id": "8ed6ae14",
   "metadata": {},
   "outputs": [
    {
     "data": {
      "image/png": "[encoded data removed]",
      "text/plain": [
       "<Figure size 432x288 with 1 Axes>"
      ]
     },
     "metadata": {
      "needs_background": "light"
     },
     "output_type": "display_data"
    }
   ],
   "source": [
    "plt.bar(x=models.index,height=models.values,width=0.8)\n",
    "for x in range(3):\n",
    "    plt.text(x,models[x]+5,models[x],c='red')\n",
    "plt.show()"
   ]
  },
  {
   "cell_type": "code",
   "execution_count": 18,
   "id": "ac806fa7",
   "metadata": {},
   "outputs": [
    {
     "data": {
      "image/png": "[encoded data removed]",
      "text/plain": [
       "<Figure size 432x288 with 1 Axes>"
      ]
     },
     "metadata": {
      "needs_background": "light"
     },
     "output_type": "display_data"
    }
   ],
   "source": [
    "plt.barh(y=models.index,height=0.8,width=models.values)\n",
    "plt.show()"
   ]
  },
  {
   "cell_type": "code",
   "execution_count": 19,
   "id": "c841365a",
   "metadata": {},
   "outputs": [],
   "source": [
    "insurance = pd.read_csv('c:/data/insurance.csv')"
   ]
  },
  {
   "cell_type": "code",
   "execution_count": 20,
   "id": "d16be760",
   "metadata": {},
   "outputs": [
    {
     "data": {
      "text/plain": [
       "no     1064\n",
       "yes     274\n",
       "Name: smoker, dtype: int64"
      ]
     },
     "execution_count": 20,
     "metadata": {},
     "output_type": "execute_result"
    }
   ],
   "source": [
    "insurance.smoker.value_counts()"
   ]
  },
  {
   "cell_type": "code",
   "execution_count": 26,
   "id": "b00e38ca",
   "metadata": {},
   "outputs": [
    {
     "data": {
      "text/plain": [
       "smoker  gender\n",
       "no      female    547\n",
       "        male      517\n",
       "yes     female    115\n",
       "        male      159\n",
       "Name: age, dtype: int64"
      ]
     },
     "execution_count": 26,
     "metadata": {},
     "output_type": "execute_result"
    }
   ],
   "source": [
    "insurance.groupby(['smoker','gender']).count()['age']"
   ]
  },
  {
   "cell_type": "code",
   "execution_count": 31,
   "id": "a7a175b3",
   "metadata": {},
   "outputs": [
    {
     "data": {
      "text/plain": [
       "(no     517\n",
       " yes    159\n",
       " Name: smoker, dtype: int64,\n",
       " no     547\n",
       " yes    115\n",
       " Name: smoker, dtype: int64)"
      ]
     },
     "execution_count": 31,
     "metadata": {},
     "output_type": "execute_result"
    }
   ],
   "source": [
    "male = insurance[insurance.gender=='male'].smoker.value_counts()\n",
    "female = insurance[insurance.gender=='female'].smoker.value_counts()\n",
    "male,female"
   ]
  },
  {
   "cell_type": "code",
   "execution_count": 52,
   "id": "974756bc",
   "metadata": {},
   "outputs": [
    {
     "data": {
      "image/png": "[encoded data removed]",
      "text/plain": [
       "<Figure size 432x288 with 1 Axes>"
      ]
     },
     "metadata": {
      "needs_background": "light"
     },
     "output_type": "display_data"
    }
   ],
   "source": [
    "plt.bar(x=male.index,height=male.values,color='blue',width=-0.4,align='edge',label='Male')\n",
    "plt.bar(x=female.index,height=female.values,color='yellow',width=0.4,align='edge',label='Female')\n",
    "plt.xticks(ticks=['no','yes'],labels=['Non-Smokers','Smokers'])\n",
    "plt.ylabel('Count')\n",
    "plt.legend()\n",
    "plt.title('Bar plot')\n",
    "plt.show()"
   ]
  },
  {
   "cell_type": "code",
   "execution_count": 98,
   "id": "eaf786f8",
   "metadata": {},
   "outputs": [
    {
     "data": {
      "image/png": "[encoded data removed]",
      "text/plain": [
       "<Figure size 432x288 with 1 Axes>"
      ]
     },
     "metadata": {
      "needs_background": "light"
     },
     "output_type": "display_data"
    }
   ],
   "source": [
    "plt.bar(x=male.index,height=male.values,color='blue',label='male')\n",
    "plt.bar(x=female.index,height=female.values,color='yellow',bottom=male.values,label='Female')\n",
    "plt.xticks(ticks=['no','yes'],labels=['Non-Smokers','Smokers'])\n",
    "plt.ylabel('Count')\n",
    "plt.legend(loc='upper left',bbox_to_anchor=(0,1.1))\n",
    "plt.title('Stacked Bar plot')\n",
    "for x in range(2):\n",
    "    plt.text(x,male.values[x]/2,male.values[x],style='italic')\n",
    "    plt.text(x,female.values[x]/2+male.values[x],female.values[x],size='xx-large')\n",
    "plt.show()"
   ]
  },
  {
   "cell_type": "code",
   "execution_count": null,
   "id": "37ebb55f",
   "metadata": {},
   "outputs": [],
   "source": [
    "plt.legend()"
   ]
  }
 ],
 "metadata": {
  "kernelspec": {
   "display_name": "Python 3",
   "language": "python",
   "name": "python3"
  },
  "language_info": {
   "codemirror_mode": {
    "name": "ipython",
    "version": 3
   },
   "file_extension": ".py",
   "mimetype": "text/x-python",
   "name": "python",
   "nbconvert_exporter": "python",
   "pygments_lexer": "ipython3",
   "version": "3.8.8"
  }
 },
 "nbformat": 4,
 "nbformat_minor": 5
}
